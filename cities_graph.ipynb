{
 "cells": [
  {
   "cell_type": "code",
   "execution_count": 7,
   "metadata": {},
   "outputs": [],
   "source": [
    "trasy = {}\n",
    "trasy['start'] = {}\n",
    "trasy['start']['Warszawa'] = 6\n",
    "trasy['start']['Radom'] = 20\n",
    "trasy['Warszawa'] = {}\n",
    "trasy['Warszawa']['Poznan'] = 15\n",
    "trasy['Warszawa']['Łódź'] = 5\n",
    "trasy['Radom'] = {}\n",
    "trasy['Radom']['Poznań'] = 25\n",
    "trasy['Łódź'] = {}\n",
    "trasy['Łódź']['Poznan'] = 15\n",
    "trasy['Łódź']['Bydgoszcz'] = 10\n",
    "trasy['Poznań'] = {}\n",
    "trasy['Poznań']['Bydgoszcz'] = 6"
   ]
  },
  {
   "cell_type": "code",
   "execution_count": 8,
   "metadata": {},
   "outputs": [
    {
     "data": {
      "text/plain": [
       "{'start': {'Warszawa': 6, 'Radom': 20},\n",
       " 'Warszawa': {'Poznan': 15, 'Łódź': 5},\n",
       " 'Radom': {'Poznań': 25},\n",
       " 'Łódź': {'Poznan': 15, 'Bydgoszcz': 10},\n",
       " 'Poznań': {'Bydgoszcz': 6}}"
      ]
     },
     "execution_count": 8,
     "metadata": {},
     "output_type": "execute_result"
    }
   ],
   "source": [
    "trasy"
   ]
  },
  {
   "cell_type": "code",
   "execution_count": null,
   "metadata": {},
   "outputs": [],
   "source": [
    "costs"
   ]
  }
 ],
 "metadata": {
  "kernelspec": {
   "display_name": "Python 3",
   "language": "python",
   "name": "python3"
  },
  "language_info": {
   "codemirror_mode": {
    "name": "ipython",
    "version": 3
   },
   "file_extension": ".py",
   "mimetype": "text/x-python",
   "name": "python",
   "nbconvert_exporter": "python",
   "pygments_lexer": "ipython3",
   "version": "3.7.4"
  }
 },
 "nbformat": 4,
 "nbformat_minor": 2
}

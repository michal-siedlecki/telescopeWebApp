{
 "cells": [
  {
   "cell_type": "code",
   "execution_count": 17,
   "metadata": {},
   "outputs": [],
   "source": [
    "graph = {}\n",
    "\n",
    "graph['start'] = {}\n",
    "\n",
    "graph['start']['Radom'] = 6\n",
    "graph['start']['Kozienice'] = 2 \n",
    "\n",
    "graph['Radom']  = { \"meta\" : 1 }\n",
    "graph['Kozienice']  = {\n",
    "    \"Radom\": 3,\n",
    "    \"meta\" : 5\n",
    "}\n",
    "graph['meta'] = {}\n",
    "\n",
    "costs = {}\n",
    "costs['Radom'] = 6\n",
    "costs['Kozienice'] = 2\n",
    "costs['meta'] = float('inf')\n",
    "\n",
    "parents = {}\n",
    "parents['Radom'] = 'start'\n",
    "parents['Kozienice'] = 'start'\n",
    "parents['meta'] = None\n",
    "\n",
    "processed = []"
   ]
  },
  {
   "cell_type": "code",
   "execution_count": 18,
   "metadata": {},
   "outputs": [],
   "source": [
    "def find_lowest_cost_node(costs):\n",
    "    lowest_cost = float('inf')\n",
    "    lowest_cost_node = None\n",
    "    for node in costs:\n",
    "        cost = costs[node]\n",
    "        if cost < lowest_cost and node not in processed:\n",
    "            lowest_cost = cost\n",
    "            lowest_cost_node = node\n",
    "    return lowest_cost_node"
   ]
  },
  {
   "cell_type": "code",
   "execution_count": 20,
   "metadata": {},
   "outputs": [
    {
     "name": "stdout",
     "output_type": "stream",
     "text": [
      "{'Radom': 5, 'Kozienice': 2, 'meta': 6}\n"
     ]
    }
   ],
   "source": [
    "node = find_lowest_cost_node(costs)\n",
    "\n",
    "while node is not None:\n",
    "    cost = costs[node]\n",
    "    neighbors = graph[node]\n",
    "    for n in neighbors.keys():\n",
    "        new_cost = cost+neighbors[n]\n",
    "        if costs[n] > new_cost:\n",
    "            costs[n] = new_cost\n",
    "            parents[n] = node\n",
    "    processed.append(node)\n",
    "    node = find_lowest_cost_node(costs)\n",
    "    \n",
    "print(costs)\n"
   ]
  },
  {
   "cell_type": "code",
   "execution_count": 40,
   "metadata": {},
   "outputs": [],
   "source": [
    "def graph_to_list(graph, start, finnish):\n",
    "\n",
    "    for k,v in graph.items():\n",
    "        if v == start:\n",
    "            begin = k\n",
    "        if k == finnish:\n",
    "            end = k\n",
    "    path = []\n",
    "    path.append(end)\n",
    "    current_node = end\n",
    "    while current_node != begin:\n",
    "        path.append(graph.get(current_node))\n",
    "        current_node = graph.get(current_node)\n",
    "    path.append(start)\n",
    "    return path"
   ]
  },
  {
   "cell_type": "code",
   "execution_count": 41,
   "metadata": {},
   "outputs": [],
   "source": [
    "path = graph_to_list(parents, 'start', 'meta')"
   ]
  },
  {
   "cell_type": "code",
   "execution_count": 42,
   "metadata": {},
   "outputs": [
    {
     "data": {
      "text/plain": [
       "['meta', 'Radom', 'Kozienice', 'start']"
      ]
     },
     "execution_count": 42,
     "metadata": {},
     "output_type": "execute_result"
    }
   ],
   "source": [
    "path"
   ]
  },
  {
   "cell_type": "code",
   "execution_count": null,
   "metadata": {},
   "outputs": [],
   "source": []
  }
 ],
 "metadata": {
  "kernelspec": {
   "display_name": "Python 3",
   "language": "python",
   "name": "python3"
  },
  "language_info": {
   "codemirror_mode": {
    "name": "ipython",
    "version": 3
   },
   "file_extension": ".py",
   "mimetype": "text/x-python",
   "name": "python",
   "nbconvert_exporter": "python",
   "pygments_lexer": "ipython3",
   "version": "3.6.9"
  }
 },
 "nbformat": 4,
 "nbformat_minor": 2
}

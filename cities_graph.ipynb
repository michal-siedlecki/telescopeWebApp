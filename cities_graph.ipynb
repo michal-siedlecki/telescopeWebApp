{
 "cells": [
  {
   "cell_type": "code",
   "execution_count": 20,
   "metadata": {},
   "outputs": [],
   "source": [
    "\n",
    "processed = []\n",
    "graph = {}\n",
    "\n",
    "graph['start'] = { 'a': 5, 'b': 2 }\n",
    "graph['a'] = { 'c' : 4, 'd': 2 }\n",
    "graph['b'] = {'a': 8, 'd': 7}\n",
    "graph['c'] = {'d': 6, 'end': 3}\n",
    "graph['d'] = {'end': 1}\n",
    "graph['end'] = {}\n"
   ]
  },
  {
   "cell_type": "code",
   "execution_count": 22,
   "metadata": {},
   "outputs": [],
   "source": [
    "request_model = {\n",
    "    'graph' : graph,\n",
    "    'beginning': 'start'\n",
    "}"
   ]
  },
  {
   "cell_type": "code",
   "execution_count": 23,
   "metadata": {
    "scrolled": true
   },
   "outputs": [
    {
     "data": {
      "text/plain": [
       "{'beginning': 'start',\n",
       " 'graph': {'a': {'c': 4, 'd': 2},\n",
       "  'b': {'a': 8, 'd': 7},\n",
       "  'c': {'d': 6, 'end': 3},\n",
       "  'd': {'end': 1},\n",
       "  'end': {},\n",
       "  'start': {'a': 5, 'b': 2}}}"
      ]
     },
     "execution_count": 23,
     "metadata": {},
     "output_type": "execute_result"
    }
   ],
   "source": [
    "request_model"
   ]
  },
  {
   "cell_type": "code",
   "execution_count": 27,
   "metadata": {},
   "outputs": [
    {
     "data": {
      "text/plain": [
       "{'beginning': 'start',\n",
       " 'graph': {'a': {'c': 4, 'd': 2},\n",
       "  'b': {'a': 8, 'd': 7},\n",
       "  'c': {'d': 6, 'end': 3},\n",
       "  'd': {'end': 1},\n",
       "  'end': {},\n",
       "  'start': {'a': 5, 'b': 2}}}"
      ]
     },
     "execution_count": 27,
     "metadata": {},
     "output_type": "execute_result"
    }
   ],
   "source": [
    "import json\n",
    "js = json.dumps(request_model)\n",
    "d = json.loads(js)\n",
    "d"
   ]
  },
  {
   "cell_type": "code",
   "execution_count": 17,
   "metadata": {},
   "outputs": [],
   "source": [
    "class Graph():\n",
    "    costs = {}\n",
    "    parents = {}\n",
    "    graph_dict = {}\n",
    "    processed = []\n",
    "\n",
    "    def __init__(self, graph_dict, begin):\n",
    "        self.graph_dict = graph_dict\n",
    "        self.costs = self._get_initial_costs(graph_dict, begin)\n",
    "        self.parents = self._get_initial_parents(graph_dict, begin)\n",
    "\n",
    "\n",
    "\n",
    "    def _get_initial_costs(self,graph, beginning):\n",
    "        costs = dict.fromkeys(graph.keys(), float('inf'))\n",
    "        costs.update(graph.get(beginning))\n",
    "        costs.pop(beginning)\n",
    "        return costs\n",
    "\n",
    "    def _get_initial_parents(self, graph, beginning):\n",
    "        parents = dict.fromkeys(graph.keys(), None)\n",
    "        for k, v in graph[beginning].items():\n",
    "            parents[k] = beginning\n",
    "        parents.pop(beginning)\n",
    "        return parents\n",
    "\n",
    "    def _find_lowest_cost_node(self):\n",
    "        lowest_cost = float('inf')\n",
    "        lowest_cost_node = None\n",
    "        for node in self.costs:\n",
    "            cost = self.costs[node]\n",
    "            if cost < lowest_cost and node not in self.processed:\n",
    "                lowest_cost = cost\n",
    "                lowest_cost_node = node\n",
    "        return lowest_cost_node\n",
    "\n",
    "    def count_shortest_path(self):\n",
    "        node = self._find_lowest_cost_node()\n",
    "        d = {'costs': {}, 'parents': {}}\n",
    "\n",
    "        while node is not None:\n",
    "            cost = self.costs[node]\n",
    "            neighbors = self.graph_dict[node]\n",
    "            for n in neighbors.keys():\n",
    "                new_cost = cost + neighbors[n]\n",
    "                if self.costs[n] > new_cost:\n",
    "                    self.costs[n] = new_cost\n",
    "                    self.parents[n] = node\n",
    "            self.processed.append(node)\n",
    "            node = self._find_lowest_cost_node()\n",
    "\n",
    "            d = {\n",
    "                'costs': self.costs,\n",
    "                'parents': self.parents\n",
    "            }\n",
    "\n",
    "        return d\n"
   ]
  },
  {
   "cell_type": "code",
   "execution_count": 18,
   "metadata": {},
   "outputs": [],
   "source": [
    "g = Graph(graph_dict=graph, begin='start')"
   ]
  },
  {
   "cell_type": "code",
   "execution_count": 19,
   "metadata": {},
   "outputs": [
    {
     "data": {
      "text/plain": [
       "{'costs': {'a': 5, 'b': 2, 'c': 9, 'd': 7, 'end': 8},\n",
       " 'parents': {'a': 'start', 'b': 'start', 'c': 'a', 'd': 'a', 'end': 'd'}}"
      ]
     },
     "execution_count": 19,
     "metadata": {},
     "output_type": "execute_result"
    }
   ],
   "source": [
    "g.count_shortest_path()"
   ]
  },
  {
   "cell_type": "code",
   "execution_count": null,
   "metadata": {},
   "outputs": [],
   "source": []
  }
 ],
 "metadata": {
  "kernelspec": {
   "display_name": "Python 3",
   "language": "python",
   "name": "python3"
  },
  "language_info": {
   "codemirror_mode": {
    "name": "ipython",
    "version": 3
   },
   "file_extension": ".py",
   "mimetype": "text/x-python",
   "name": "python",
   "nbconvert_exporter": "python",
   "pygments_lexer": "ipython3",
   "version": "3.6.9"
  }
 },
 "nbformat": 4,
 "nbformat_minor": 2
}
